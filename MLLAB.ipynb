{
  "nbformat": 4,
  "nbformat_minor": 0,
  "metadata": {
    "colab": {
      "name": "MLLAB.ipynb",
      "provenance": []
    },
    "kernelspec": {
      "name": "python3",
      "display_name": "Python 3"
    },
    "language_info": {
      "name": "python"
    }
  },
  "cells": [
    {
      "cell_type": "markdown",
      "source": [
        "MEAN,MED,MODE"
      ],
      "metadata": {
        "id": "LBbxfC5XLAQR"
      }
    },
    {
      "cell_type": "code",
      "execution_count": 3,
      "metadata": {
        "colab": {
          "base_uri": "https://localhost:8080/"
        },
        "id": "cHQKI5yZK9xi",
        "outputId": "bb91c538-71dd-464b-d80b-065d4a290101"
      },
      "outputs": [
        {
          "output_type": "stream",
          "name": "stdout",
          "text": [
            "List:  [2, 4, 1, 5, 3, 3, 5] \n",
            "\n",
            "Mean:  3.2857142857142856\n",
            "Median:  3\n",
            "Mode:  5\n",
            "[1.0, 0.0, 0.0005199896002079958, 0.0001399972000559989, 0.007019859602807944, 0.09001819963600728]\n"
          ]
        }
      ],
      "source": [
        "# Mean, Median and Mode without inbuilt functions\n",
        "l1 = [2,4,1,5,3,3,5]\n",
        "print(\"List: \", l1, \"\\n\")\n",
        "\n",
        "# MEAN\n",
        "sum = 0\n",
        "length = len(l1)\n",
        "for i in range(length):\n",
        "    sum = sum + l1[i]\n",
        "    \n",
        "print(\"Mean: \", sum/length)\n",
        "\n",
        "#MEDIAN\n",
        "x = int(length/2)\n",
        "l1.sort()\n",
        "if(int(length%2) == 0):\n",
        "    median = ( l1[x] + l1[x-1] ) / 2\n",
        "else:\n",
        "    median = l1[x]\n",
        "\n",
        "print(\"Median: \", median)\n",
        "\n",
        "#MODE\n",
        "maxium = 0\n",
        "for n in l1:\n",
        "    count = 0\n",
        "    for i in range(length):\n",
        "        if(l1[i] == n):\n",
        "            count = count + 1\n",
        "    \n",
        "    if(count >= maxium):\n",
        "        maxium = count\n",
        "        mode = n\n",
        "\n",
        "print(\"Mode: \", mode)\n",
        "\n",
        "\n",
        "def getMean(numbers):\n",
        "    if len(numbers) == 0:\n",
        "        return None\n",
        "    else:\n",
        "        current_sum = 0\n",
        "        for i in numbers:\n",
        "            current_sum += i\n",
        "            current_avg = current_sum/len(numbers)\n",
        "        return current_avg\n",
        "\n",
        "def getStandardDeviation(numbers):\n",
        "    if len(numbers) == 0:\n",
        "        return 0\n",
        "    else:\n",
        "        mean = getMean(numbers)\n",
        "        std_deviation = 0\n",
        "        for i in numbers:\n",
        "            std_deviation += (i - mean)**2\n",
        "        return (std_deviation/len(numbers))**0.5\n",
        "\n",
        "def getNormalization(features):\n",
        "    x_min = min(features)\n",
        "    x_max = max(features)\n",
        "    normalized_vals = []\n",
        "    for i in features:\n",
        "        normalized_vals.append((i - x_min)/(x_max - x_min))\n",
        "    return normalized_vals\n",
        "\n",
        "getNormalization([10,20,30,40])\n",
        "\n",
        "def getStandardization(features):\n",
        "    mean = getMean(features)\n",
        "    std_deviation = getStandardDeviation(features)\n",
        "    standardized_vals = []\n",
        "    for i in features:\n",
        "        standardized_vals.append((i - mean)/std_deviation)\n",
        "    return standardized_vals\n",
        "  \n",
        "getStandardization([10,20,30,40])\n",
        "\n",
        "# MinMax Normalization\n",
        "def doMinMaxNormalization(numbers):\n",
        "    result = []\n",
        "    if len(numbers) == 0:\n",
        "        return result\n",
        "    else:\n",
        "        min_value = min(numbers)\n",
        "        max_value = max(numbers)\n",
        "        for i in numbers:\n",
        "            result.append((i - min_value)/(max_value - min_value))\n",
        "        return result\n",
        "\n",
        "features = [100000,-2,50,12,700,9000]\n",
        "print(doMinMaxNormalization(features))"
      ]
    },
    {
      "cell_type": "markdown",
      "source": [
        "DECISION TREE\n"
      ],
      "metadata": {
        "id": "jhz_UB42MKhz"
      }
    },
    {
      "cell_type": "code",
      "source": [
        "import pandas as pd\n",
        "import numpy as np\n",
        "import matplotlib.pyplot as plt\n",
        "\n",
        "df= pd.read_csv(\"zoo.csv\")\n",
        "df.head()\n",
        "\n",
        "class_type_output = df[\"type\"]\n",
        "df = df.drop(\"type\", axis=1)\n",
        "print(df)\n",
        "\n",
        "from sklearn.model_selection import train_test_split\n",
        "x_train, x_test, y_train, y_test = train_test_split(df, class_type_output, test_size=0.20)\n",
        "from sklearn.tree import DecisionTreeClassifier\n",
        "classifier = DecisionTreeClassifier()\n",
        "classifier.fit(x_train, y_train)\n",
        "y_prediction = classifier.predict(x_test)\n",
        "y_prediction\n",
        "\n",
        "from sklearn.metrics import classification_report, confusion_matrix, accuracy_score\n",
        "confusion_matrix(y_test,y_prediction)\n",
        "\n",
        "print(classification_report(y_test, y_prediction))\n",
        "\n",
        "print(accuracy_score(y_test, y_prediction))\n",
        "\n",
        "predicted_class = list(y_prediction)\n",
        "actual_class = list(y_test)\n",
        "for i in range(len(predicted_class)):\n",
        "    print(\"Predicted class =\", predicted_class[i],\"\\tActual class =\",actual_class[i])"
      ],
      "metadata": {
        "colab": {
          "base_uri": "https://localhost:8080/"
        },
        "id": "lwQn6_GjMUk_",
        "outputId": "24e04e3c-6399-45a5-a001-b5ac9908099b"
      },
      "execution_count": 4,
      "outputs": [
        {
          "output_type": "stream",
          "name": "stdout",
          "text": [
            "     hair  feathers  eggs  milk  airborne  ...  fins  legs  tail  domestic  catsize\n",
            "0       1         0     0     1         0  ...     0     4     0         0        1\n",
            "1       1         0     0     1         0  ...     0     4     1         0        1\n",
            "2       0         0     1     0         0  ...     1     0     1         0        0\n",
            "3       1         0     0     1         0  ...     0     4     0         0        1\n",
            "4       1         0     0     1         0  ...     0     4     1         0        1\n",
            "..    ...       ...   ...   ...       ...  ...   ...   ...   ...       ...      ...\n",
            "96      1         0     0     1         0  ...     0     2     1         0        1\n",
            "97      1         0     1     0         1  ...     0     6     0         0        0\n",
            "98      1         0     0     1         0  ...     0     4     1         0        1\n",
            "99      0         0     1     0         0  ...     0     0     0         0        0\n",
            "100     0         1     1     0         1  ...     0     2     1         0        0\n",
            "\n",
            "[101 rows x 16 columns]\n",
            "              precision    recall  f1-score   support\n",
            "\n",
            "           1       1.00      1.00      1.00         8\n",
            "           2       1.00      1.00      1.00         3\n",
            "           3       1.00      0.50      0.67         2\n",
            "           4       1.00      1.00      1.00         2\n",
            "           6       0.67      1.00      0.80         2\n",
            "           7       1.00      1.00      1.00         4\n",
            "\n",
            "    accuracy                           0.95        21\n",
            "   macro avg       0.94      0.92      0.91        21\n",
            "weighted avg       0.97      0.95      0.95        21\n",
            "\n",
            "0.9523809523809523\n",
            "Predicted class = 1 \tActual class = 1\n",
            "Predicted class = 4 \tActual class = 4\n",
            "Predicted class = 1 \tActual class = 1\n",
            "Predicted class = 7 \tActual class = 7\n",
            "Predicted class = 1 \tActual class = 1\n",
            "Predicted class = 7 \tActual class = 7\n",
            "Predicted class = 7 \tActual class = 7\n",
            "Predicted class = 6 \tActual class = 6\n",
            "Predicted class = 1 \tActual class = 1\n",
            "Predicted class = 2 \tActual class = 2\n",
            "Predicted class = 2 \tActual class = 2\n",
            "Predicted class = 1 \tActual class = 1\n",
            "Predicted class = 1 \tActual class = 1\n",
            "Predicted class = 6 \tActual class = 3\n",
            "Predicted class = 1 \tActual class = 1\n",
            "Predicted class = 6 \tActual class = 6\n",
            "Predicted class = 7 \tActual class = 7\n",
            "Predicted class = 4 \tActual class = 4\n",
            "Predicted class = 1 \tActual class = 1\n",
            "Predicted class = 3 \tActual class = 3\n",
            "Predicted class = 2 \tActual class = 2\n"
          ]
        }
      ]
    },
    {
      "cell_type": "markdown",
      "source": [
        "LINEAR REGRESSION"
      ],
      "metadata": {
        "id": "H_VRkkpUNAGB"
      }
    },
    {
      "cell_type": "code",
      "source": [
        "import pandas as pd\n",
        "import matplotlib.pyplot as plt\n",
        "df = pd.read_csv(\"student_scores.csv\")\n",
        "df\n",
        "df.plot(x=\"Hours\", y=\"Scores\", style=\"o\")\n",
        "plt.show()\n",
        "x_mean = df[\"Hours\"].mean()\n",
        "y_mean = df[\"Scores\"].mean()\n",
        "print(x_mean, y_mean)\n",
        "df[\"x\"] = df[\"Hours\"] - x_mean\n",
        "df[\"y\"] = df[\"Scores\"] - y_mean\n",
        "df[\"x*y\"] = df[\"x\"] * df[\"y\"]\n",
        "df[\"x^2\"] = df[\"x\"]**2\n",
        "df[\"y^2\"] = df[\"y\"]**2\n",
        "df\n",
        "summation_x_y = df[\"x*y\"].sum()\n",
        "summation_x_squared = df[\"x^2\"].sum()\n",
        "summation_y_squared = df[\"y^2\"].sum()\n",
        "print(summation_x_y, summation_x_squared, summation_y_squared)\n",
        "correlation = summation_x_y / (summation_x_squared * summation_y_squared)**0.5\n",
        "correlation\n",
        "def getMean(numbers):\n",
        "    if len(numbers) == 0:\n",
        "        return None\n",
        "    else:\n",
        "        current_sum = 0\n",
        "        for i in numbers:\n",
        "            current_sum += i\n",
        "            current_avg = current_sum/len(numbers)\n",
        "        return current_avg\n",
        "\n",
        "def getStandardDeviation(numbers):\n",
        "    if len(numbers) == 0:\n",
        "        return 0\n",
        "    else:\n",
        "        mean = getMean(numbers)\n",
        "        std_deviation = 0\n",
        "        for i in numbers:\n",
        "            std_deviation += (i - mean)**2\n",
        "        return (std_deviation/len(numbers))**0.5\n",
        "std_deviation_x = getStandardDeviation(df[\"x\"].tolist())\n",
        "std_deviation_y = getStandardDeviation(df[\"y\"].tolist())\n",
        "print(std_deviation_x, std_deviation_y)\n",
        "m = correlation * (std_deviation_y / std_deviation_x)\n",
        "m\n",
        "c = df[\"Scores\"].mean() - m * df[\"Hours\"].mean()\n",
        "c\n",
        "df[\"y_prediction\"] = m * df[\"Hours\"] + c\n",
        "df\n",
        "plot1 = plt.scatter(df[\"Hours\"], df[\"Scores\"])\n",
        "plot2 = plt.plot(df[\"Hours\"], df[\"y_prediction\"],color=\"r\")\n",
        "plt.show()\n",
        "df[\"y_prediction\"].mean()\n",
        "def getSSR(df_pred):\n",
        "    result = 0\n",
        "    for i in range(len(df_pred)):\n",
        "        result += (df_pred[i] - df_pred.mean())**2\n",
        "    return result\n",
        "print(\"ssr:\",getSSR(df[\"y_prediction\"]))\n",
        "def getSST(df_actual):\n",
        "    result = 0\n",
        "    for i in range(len(df_actual)):\n",
        "        result += (df_actual[i] - df_actual.mean())**2\n",
        "    return result\n",
        "print(\"sst: \",getSST(df[\"Scores\"]))\n",
        "def getSSE(df_actual, df_pred):\n",
        "    result = 0\n",
        "    for i in range(len(df_actual)):\n",
        "        result += (df_actual[i] - df_pred[i])**2\n",
        "    return result\n",
        "print(\"sse:\" ,getSSE(df[\"Scores\"], df[\"y_prediction\"]))\n",
        "r2 = getSSR(df[\"y_prediction\"])/getSST(df[\"Scores\"])\n",
        "r2\n",
        "print(df[\"Scores\"].count())\n",
        "cost=getSSE"
      ],
      "metadata": {
        "colab": {
          "base_uri": "https://localhost:8080/",
          "height": 649
        },
        "id": "hGlX3hiTNDYx",
        "outputId": "9c4ac1b2-776b-45ca-acc2-b04d45045626"
      },
      "execution_count": 5,
      "outputs": [
        {
          "output_type": "display_data",
          "data": {
            "image/png": "[encoded data removed]",
            "text/plain": [
              "<Figure size 432x288 with 1 Axes>"
            ]
          },
          "metadata": {
            "needs_background": "light"
          }
        },
        {
          "output_type": "stream",
          "name": "stdout",
          "text": [
            "5.012 51.48\n",
            "1495.9560000000001 153.0264 15346.24\n",
            "2.47407679751458 24.775988375844868\n"
          ]
        },
        {
          "output_type": "display_data",
          "data": {
            "image/png": "[encoded data removed]",
            "text/plain": [
              "<Figure size 432x288 with 1 Axes>"
            ]
          },
          "metadata": {
            "needs_background": "light"
          }
        },
        {
          "output_type": "stream",
          "name": "stdout",
          "text": [
            "ssr: 14624.171737268869\n",
            "sst:  15346.24\n",
            "sse: 722.0682627311364\n",
            "25\n"
          ]
        }
      ]
    },
    {
      "cell_type": "markdown",
      "source": [
        "LOGISTIC REGRESSION"
      ],
      "metadata": {
        "id": "MXk2i5J1NFio"
      }
    },
    {
      "cell_type": "code",
      "source": [
        "import pandas as pd\n",
        "data = pd.read_csv(\"student.csv\")\n",
        "data.head(10)\n",
        "data.describe()\n",
        "# Splitting data\n",
        "\n",
        "# Input data\n",
        "x = data.iloc[:, [0,1] ].values\n",
        "\n",
        "# Output data\n",
        "y = data.iloc[:, 2].values\n",
        "\n",
        "print(x[:5, :]) # Prinitng the first 5 rows of split input data\n",
        "print()\n",
        "print(y[:5])   # Printing the first 5 rows of split output data\n",
        "\n",
        "#Data Preprocessing\n",
        "\n",
        "from sklearn import preprocessing\n",
        "\n",
        "# Normalising data\n",
        "norX = preprocessing.scale(x)\n",
        "\n",
        "# Printing first 5 rows of Normalised data\n",
        "print(norX[:5, :])\n",
        "# Training and Testing\n",
        "\n",
        "import numpy as np\n",
        "from sklearn.model_selection import train_test_split\n",
        "from sklearn.model_selection import KFold\n",
        "\n",
        "foldings = KFold(n_splits = 5)\n",
        "\n",
        "# for train_index, test_index in foldings.split(norX):\n",
        "xtrain, xtest, ytrain, ytest = train_test_split(norX, y, train_size=0.80, test_size=0.20)\n",
        "# xtrain, xtest = norX[train_index], norX[test_index]\n",
        "# ytrain, ytest = y[train_index], y[test_index]\n",
        "\n",
        "x1 = xtrain[:, 0]\n",
        "x2 = xtrain[:, 1]\n",
        "\n",
        "b0 = 0\n",
        "b1 = 0\n",
        "b2 = 0\n",
        "epoch = 1000\n",
        "alpha = 0.001\n",
        "\n",
        "while(epoch>0):\n",
        "    for i in range(len(xtrain)):\n",
        "        pred = b0 + b1*x1[i] + b2*x2[i]\n",
        "        prediction = 1/(1 + np.exp(-pred))\n",
        "        b0 = b0 + alpha*(ytrain[i]-prediction)*prediction*(1-prediction)*1.0\n",
        "        b1 = b1 + alpha*(ytrain[i]-prediction)*prediction*(1-prediction)*x1[i]\n",
        "        b2 = b2 + alpha*(ytrain[i]-prediction)*prediction*(1-prediction)*x2[i]\n",
        "    epoch = epoch - 1\n",
        "\n",
        "print(b0)\n",
        "print(b1)\n",
        "print(b2)\n",
        "# Prediction\n",
        "\n",
        "x3 = xtest[:, 0]\n",
        "x4 = xtest[:, 1]\n",
        "print(ytest)\n",
        "\n",
        "pred_list = []\n",
        "y_pred = [0]*len(xtest)\n",
        "\n",
        "for i in range(len(xtest)):\n",
        "    predo = b0 + b1*x3[i] + b2*x4[i]\n",
        "    y_pred[i] = np.round(1/(1 + np.exp(-predo)))\n",
        "    pred_list.append(int(y_pred[i]))\n",
        "\n",
        "print(pred_list)\n",
        "# Accuracy Score\n",
        "from sklearn.metrics import accuracy_score\n",
        "res = accuracy_score(ytest, y_pred)\n",
        "acc = res*100\n",
        "print(\"Accuracy in precentage:\", acc, \"%\")"
      ],
      "metadata": {
        "colab": {
          "base_uri": "https://localhost:8080/"
        },
        "id": "Cg2aV8zGNRPt",
        "outputId": "0732d31e-63bf-4146-960b-679204519f02"
      },
      "execution_count": 7,
      "outputs": [
        {
          "output_type": "stream",
          "name": "stdout",
          "text": [
            "[[34.62365962 78.02469282]\n",
            " [30.28671077 43.89499752]\n",
            " [35.84740877 72.90219803]\n",
            " [60.18259939 86.3085521 ]\n",
            " [79.03273605 75.34437644]]\n",
            "\n",
            "[0 0 0 1 1]\n",
            "[[-1.60224763  0.63834112]\n",
            " [-1.82625564 -1.2075414 ]\n",
            " [-1.53903969  0.3612943 ]\n",
            " [-0.28210129  1.0863683 ]\n",
            " [ 0.69152826  0.49337794]]\n",
            "0.5112930429121998\n",
            "1.533129541963031\n",
            "1.3092102360860882\n",
            "[0 1 1 1 1 0 1 1 1 0 1 1 0 1 1 0 1 0 1 1]\n",
            "[0, 1, 0, 1, 1, 0, 0, 1, 1, 0, 1, 1, 0, 1, 1, 0, 1, 1, 1, 1]\n",
            "Accuracy in precentage: 85.0 %\n"
          ]
        }
      ]
    },
    {
      "cell_type": "markdown",
      "source": [
        "KMEANS"
      ],
      "metadata": {
        "id": "fuRDPVQuNj_n"
      }
    },
    {
      "cell_type": "code",
      "source": [
        "import math\n",
        "def kmeans_3clusters(cl1,cl2,cl3,data):\n",
        "    cluster1=[]\n",
        "    cluster2=[]\n",
        "    cluster3=[]\n",
        "    def euc(a,b,cl1,cl2,cl3):\n",
        "        d1=math.sqrt((cl1[0]-a)**2 + (cl1[1]-b)**2)\n",
        "        d2=math.sqrt((cl2[0]-a)**2 + (cl2[1]-b)**2)\n",
        "        d3=math.sqrt((cl3[0]-a)**2 + (cl3[1]-b)**2)\n",
        "        md=min(d1,d2,d3)\n",
        "        if(md==d1):\n",
        "            cluster1.append([a,b])\n",
        "        elif(md==d2):\n",
        "            cluster2.append([a,b])\n",
        "        else:\n",
        "            cluster3.append([a,b])\n",
        "\n",
        "    for j in range(15):\n",
        "        for i in range(0,10):\n",
        "            euc(data['X1'][i],data['X2'][i],cl1,cl2,cl3)\n",
        "        print(\"cluster1 : \",cluster1)\n",
        "        print(\"cluster2 : \",cluster2)\n",
        "        print(\"cluster3 : \",cluster3)\n",
        "        cl1=np.mean(cluster1, axis=0)\n",
        "        cl2=np.mean(cluster2, axis=0)\n",
        "        cl3=np.mean(cluster3, axis=0)\n",
        "        print(\"centroid1 : \",np.mean(cluster1, axis=0))\n",
        "        print(\"centroid2 : \",np.mean(cluster2, axis=0))\n",
        "        print(\"centroid3 : \",np.mean(cluster3, axis=0))\n",
        "        cluster1=[]\n",
        "        cluster2=[]\n",
        "        cluster3=[]\n",
        "        print(\"----------------\",\"ITERATION\",j+1,\"--------------------\")"
      ],
      "metadata": {
        "id": "r9NMG3FMNlD7"
      },
      "execution_count": 8,
      "outputs": []
    },
    {
      "cell_type": "code",
      "source": [
        "import pandas as pd\n",
        "import numpy as np\n",
        "data=pd.read_csv(\"samp.csv\")\n",
        "data\n",
        "import math \n",
        "kmeans_3clusters([6.2,3.2],[6.6,3.7],[6.5,3.0],data)"
      ],
      "metadata": {
        "colab": {
          "base_uri": "https://localhost:8080/"
        },
        "id": "51_VD3H9NtmB",
        "outputId": "81d37adc-ddbf-4fe4-c72b-918c3001b081"
      },
      "execution_count": 9,
      "outputs": [
        {
          "output_type": "stream",
          "name": "stdout",
          "text": [
            "cluster1 :  [[5.9, 3.2], [4.6, 2.9], [4.7, 3.2], [5.0, 3.0], [4.9, 3.1], [5.1, 3.8], [6.0, 3.0]]\n",
            "cluster2 :  [[5.5, 4.2]]\n",
            "cluster3 :  [[6.2, 2.8], [6.7, 3.1]]\n",
            "centroid1 :  [5.17142857 3.17142857]\n",
            "centroid2 :  [5.5 4.2]\n",
            "centroid3 :  [6.45 2.95]\n",
            "---------------- ITERATION 1 --------------------\n",
            "cluster1 :  [[4.6, 2.9], [4.7, 3.2], [5.0, 3.0], [4.9, 3.1]]\n",
            "cluster2 :  [[5.5, 4.2], [5.1, 3.8]]\n",
            "cluster3 :  [[5.9, 3.2], [6.2, 2.8], [6.7, 3.1], [6.0, 3.0]]\n",
            "centroid1 :  [4.8  3.05]\n",
            "centroid2 :  [5.3 4. ]\n",
            "centroid3 :  [6.2   3.025]\n",
            "---------------- ITERATION 2 --------------------\n",
            "cluster1 :  [[4.6, 2.9], [4.7, 3.2], [5.0, 3.0], [4.9, 3.1]]\n",
            "cluster2 :  [[5.5, 4.2], [5.1, 3.8]]\n",
            "cluster3 :  [[5.9, 3.2], [6.2, 2.8], [6.7, 3.1], [6.0, 3.0]]\n",
            "centroid1 :  [4.8  3.05]\n",
            "centroid2 :  [5.3 4. ]\n",
            "centroid3 :  [6.2   3.025]\n",
            "---------------- ITERATION 3 --------------------\n",
            "cluster1 :  [[4.6, 2.9], [4.7, 3.2], [5.0, 3.0], [4.9, 3.1]]\n",
            "cluster2 :  [[5.5, 4.2], [5.1, 3.8]]\n",
            "cluster3 :  [[5.9, 3.2], [6.2, 2.8], [6.7, 3.1], [6.0, 3.0]]\n",
            "centroid1 :  [4.8  3.05]\n",
            "centroid2 :  [5.3 4. ]\n",
            "centroid3 :  [6.2   3.025]\n",
            "---------------- ITERATION 4 --------------------\n",
            "cluster1 :  [[4.6, 2.9], [4.7, 3.2], [5.0, 3.0], [4.9, 3.1]]\n",
            "cluster2 :  [[5.5, 4.2], [5.1, 3.8]]\n",
            "cluster3 :  [[5.9, 3.2], [6.2, 2.8], [6.7, 3.1], [6.0, 3.0]]\n",
            "centroid1 :  [4.8  3.05]\n",
            "centroid2 :  [5.3 4. ]\n",
            "centroid3 :  [6.2   3.025]\n",
            "---------------- ITERATION 5 --------------------\n",
            "cluster1 :  [[4.6, 2.9], [4.7, 3.2], [5.0, 3.0], [4.9, 3.1]]\n",
            "cluster2 :  [[5.5, 4.2], [5.1, 3.8]]\n",
            "cluster3 :  [[5.9, 3.2], [6.2, 2.8], [6.7, 3.1], [6.0, 3.0]]\n",
            "centroid1 :  [4.8  3.05]\n",
            "centroid2 :  [5.3 4. ]\n",
            "centroid3 :  [6.2   3.025]\n",
            "---------------- ITERATION 6 --------------------\n",
            "cluster1 :  [[4.6, 2.9], [4.7, 3.2], [5.0, 3.0], [4.9, 3.1]]\n",
            "cluster2 :  [[5.5, 4.2], [5.1, 3.8]]\n",
            "cluster3 :  [[5.9, 3.2], [6.2, 2.8], [6.7, 3.1], [6.0, 3.0]]\n",
            "centroid1 :  [4.8  3.05]\n",
            "centroid2 :  [5.3 4. ]\n",
            "centroid3 :  [6.2   3.025]\n",
            "---------------- ITERATION 7 --------------------\n",
            "cluster1 :  [[4.6, 2.9], [4.7, 3.2], [5.0, 3.0], [4.9, 3.1]]\n",
            "cluster2 :  [[5.5, 4.2], [5.1, 3.8]]\n",
            "cluster3 :  [[5.9, 3.2], [6.2, 2.8], [6.7, 3.1], [6.0, 3.0]]\n",
            "centroid1 :  [4.8  3.05]\n",
            "centroid2 :  [5.3 4. ]\n",
            "centroid3 :  [6.2   3.025]\n",
            "---------------- ITERATION 8 --------------------\n",
            "cluster1 :  [[4.6, 2.9], [4.7, 3.2], [5.0, 3.0], [4.9, 3.1]]\n",
            "cluster2 :  [[5.5, 4.2], [5.1, 3.8]]\n",
            "cluster3 :  [[5.9, 3.2], [6.2, 2.8], [6.7, 3.1], [6.0, 3.0]]\n",
            "centroid1 :  [4.8  3.05]\n",
            "centroid2 :  [5.3 4. ]\n",
            "centroid3 :  [6.2   3.025]\n",
            "---------------- ITERATION 9 --------------------\n",
            "cluster1 :  [[4.6, 2.9], [4.7, 3.2], [5.0, 3.0], [4.9, 3.1]]\n",
            "cluster2 :  [[5.5, 4.2], [5.1, 3.8]]\n",
            "cluster3 :  [[5.9, 3.2], [6.2, 2.8], [6.7, 3.1], [6.0, 3.0]]\n",
            "centroid1 :  [4.8  3.05]\n",
            "centroid2 :  [5.3 4. ]\n",
            "centroid3 :  [6.2   3.025]\n",
            "---------------- ITERATION 10 --------------------\n",
            "cluster1 :  [[4.6, 2.9], [4.7, 3.2], [5.0, 3.0], [4.9, 3.1]]\n",
            "cluster2 :  [[5.5, 4.2], [5.1, 3.8]]\n",
            "cluster3 :  [[5.9, 3.2], [6.2, 2.8], [6.7, 3.1], [6.0, 3.0]]\n",
            "centroid1 :  [4.8  3.05]\n",
            "centroid2 :  [5.3 4. ]\n",
            "centroid3 :  [6.2   3.025]\n",
            "---------------- ITERATION 11 --------------------\n",
            "cluster1 :  [[4.6, 2.9], [4.7, 3.2], [5.0, 3.0], [4.9, 3.1]]\n",
            "cluster2 :  [[5.5, 4.2], [5.1, 3.8]]\n",
            "cluster3 :  [[5.9, 3.2], [6.2, 2.8], [6.7, 3.1], [6.0, 3.0]]\n",
            "centroid1 :  [4.8  3.05]\n",
            "centroid2 :  [5.3 4. ]\n",
            "centroid3 :  [6.2   3.025]\n",
            "---------------- ITERATION 12 --------------------\n",
            "cluster1 :  [[4.6, 2.9], [4.7, 3.2], [5.0, 3.0], [4.9, 3.1]]\n",
            "cluster2 :  [[5.5, 4.2], [5.1, 3.8]]\n",
            "cluster3 :  [[5.9, 3.2], [6.2, 2.8], [6.7, 3.1], [6.0, 3.0]]\n",
            "centroid1 :  [4.8  3.05]\n",
            "centroid2 :  [5.3 4. ]\n",
            "centroid3 :  [6.2   3.025]\n",
            "---------------- ITERATION 13 --------------------\n",
            "cluster1 :  [[4.6, 2.9], [4.7, 3.2], [5.0, 3.0], [4.9, 3.1]]\n",
            "cluster2 :  [[5.5, 4.2], [5.1, 3.8]]\n",
            "cluster3 :  [[5.9, 3.2], [6.2, 2.8], [6.7, 3.1], [6.0, 3.0]]\n",
            "centroid1 :  [4.8  3.05]\n",
            "centroid2 :  [5.3 4. ]\n",
            "centroid3 :  [6.2   3.025]\n",
            "---------------- ITERATION 14 --------------------\n",
            "cluster1 :  [[4.6, 2.9], [4.7, 3.2], [5.0, 3.0], [4.9, 3.1]]\n",
            "cluster2 :  [[5.5, 4.2], [5.1, 3.8]]\n",
            "cluster3 :  [[5.9, 3.2], [6.2, 2.8], [6.7, 3.1], [6.0, 3.0]]\n",
            "centroid1 :  [4.8  3.05]\n",
            "centroid2 :  [5.3 4. ]\n",
            "centroid3 :  [6.2   3.025]\n",
            "---------------- ITERATION 15 --------------------\n"
          ]
        }
      ]
    },
    {
      "cell_type": "markdown",
      "source": [
        "RANDOM FOREST"
      ],
      "metadata": {
        "id": "NuMpvOzrNvlo"
      }
    },
    {
      "cell_type": "code",
      "source": [
        "import pandas as pd\n",
        "import numpy as np\n",
        "import matplotlib.pyplot as plt\n",
        "import seaborn as sns\n",
        "data = pd.read_csv('pima.csv')\n",
        "from sklearn.model_selection import train_test_split\n",
        "from sklearn.ensemble import RandomForestClassifier\n",
        "from sklearn.datasets import make_classification\n",
        "from sklearn.metrics import accuracy_score\n",
        "from sklearn.preprocessing import StandardScaler, MinMaxScaler\n",
        "import pandas_profiling\n",
        "from matplotlib import rcParams\n",
        "\n",
        "import warnings\n",
        "warnings.filterwarnings(\"ignore\")\n",
        "rcParams[\"figure.figsize\"]=10,6\n",
        "np.random.seed(42)\n",
        "data.sample(5)\n",
        "\n",
        "X=data.drop(\"Outcome\",axis=1)\n",
        "y=data[\"Outcome\"]\n",
        "\n",
        "scaler=StandardScaler()\n",
        "X_scaled=scaler.fit_transform(X)\n",
        "\n",
        "X_train,X_test,Y_train,Y_test=train_test_split(X_scaled,y,stratify=y,test_size=0.10,random_state=42)\n",
        "\n",
        "classifier = RandomForestClassifier(n_estimators=100)\n",
        "classifier.fit(X_train,Y_train)\n",
        "\n",
        "\n",
        "\n",
        "y_pred = classifier.predict(X_test)\n",
        "\n",
        "print(\"Accuracy:\",accuracy_score(Y_test,y_pred))\n",
        "Accuracy: 0.8051948051948052\n",
        "\n",
        "feature_importances_df = pd.DataFrame(\n",
        "    {\"feature\":list(X.columns),\"importance\":classifier.feature_importances_}\n",
        ").sort_values(\"importance\",ascending=False)\n",
        "\n",
        "feature_importances_df\n",
        "\n",
        "from sklearn.tree import DecisionTreeClassifier\n",
        "clf=DecisionTreeClassifier()\n",
        "clf.fit(X_train,Y_train)\n",
        "\n",
        "Y_pred = clf.predict(X_test)\n",
        "from sklearn.metrics import accuracy_score\n",
        "print(\"Accuracy-DecisionTree :\",accuracy_score(Y_test,Y_pred))\n",
        "\n",
        "\n"
      ],
      "metadata": {
        "colab": {
          "base_uri": "https://localhost:8080/"
        },
        "id": "Zr4i-H13N62A",
        "outputId": "97a6a4e0-ad87-4b53-8644-944d9fab0ab3"
      },
      "execution_count": 11,
      "outputs": [
        {
          "output_type": "stream",
          "name": "stdout",
          "text": [
            "Accuracy: 0.8051948051948052\n",
            "Accuracy-DecisionTree : 0.7532467532467533\n"
          ]
        }
      ]
    },
    {
      "cell_type": "markdown",
      "source": [
        "SVM"
      ],
      "metadata": {
        "id": "MkN0PwyLOnDU"
      }
    },
    {
      "cell_type": "code",
      "source": [
        "from sklearn.svm import SVC\n",
        "from sklearn import svm\n",
        "import numpy as np\n",
        "\n",
        "X=np.array([[3,4],[1,4],[2,3],[6,-1],[7,-1],[5,-3]])\n",
        "y=np.array([-1,-1,-1,1,1,1])\n",
        "\n",
        "l=SVC(C=1e5,kernel='linear')\n",
        "l.fit(X,y)\n",
        "\n",
        "print('w = ',l.coef_)\n",
        "print('b = ',l.intercept_)\n",
        "print('Indices of support vectors= ',l.support_)\n",
        "print('Support vectors= ')\n",
        "print(l.support_vectors_)\n",
        "print('No. of support vectors fro each class= ',l.n_support_)\n",
        "print('coefficient of support vectors in decision function= ',np.abs(l.dual_coef_))\n",
        "\n",
        "import pandas as pd\n",
        "data=pd.read_csv('glass.csv')\n",
        "data.head()\n",
        "\n",
        "x=data.drop('Type',axis=1)\n",
        "y=data.Type\n",
        "\n",
        "from sklearn.model_selection import train_test_split\n",
        "x_train,x_test,y_train,y_test=train_test_split(x,y,test_size=0.3)\n",
        "\n",
        "linear=svm.SVC(kernel='linear')\n",
        "linear.fit(x_train,y_train)\n",
        "\n",
        "SVC(kernel='linear')\n",
        "\n",
        "print(linear.support_vectors_)\n",
        "\n",
        "print(linear.n_support_)\n",
        "y_pred=linear.predict(x_test)\n",
        "from sklearn.metrics import accuracy_score\n",
        "print(accuracy_score(y_test,y_pred))\n",
        "from sklearn.metrics import confusion_matrix\n",
        "print(confusion_matrix(y_test,y_pred))\n",
        "from sklearn.metrics import classification_report\n",
        "print(classification_report(y_test,y_pred))\n",
        "\n",
        "model1=SVC(kernel='sigmoid')\n",
        "model2=SVC(kernel='poly')\n",
        "model3=SVC(kernel='rbf')\n",
        "model1.fit(x_train,y_train)\n",
        "model2.fit(x_train,y_train)\n",
        "model3.fit(x_train,y_train)\n",
        "\n",
        "y_pred1=model1.predict(x_test)\n",
        "\n",
        "y_pred2=model2.predict(x_test)\n",
        "\n",
        "y_pred3=model3.predict(x_test)\n",
        "\n",
        "print(accuracy_score(y_test,y_pred1))\n",
        "\n",
        "print(accuracy_score(y_test,y_pred2))\n",
        "\n",
        "print(accuracy_score(y_test,y_pred3))\n",
        "\n",
        "\n",
        "\n",
        "\n",
        "\n"
      ],
      "metadata": {
        "colab": {
          "base_uri": "https://localhost:8080/"
        },
        "id": "eccM3lzhOoXa",
        "outputId": "35770e0e-b6c1-422c-e398-c611be264d5d"
      },
      "execution_count": 13,
      "outputs": [
        {
          "output_type": "stream",
          "name": "stdout",
          "text": [
            "w =  [[ 0.25 -0.25]]\n",
            "b =  [-0.75]\n",
            "Indices of support vectors=  [2 3]\n",
            "Support vectors= \n",
            "[[ 2.  3.]\n",
            " [ 6. -1.]]\n",
            "No. of support vectors fro each class=  [1 1]\n",
            "coefficient of support vectors in decision function=  [[0.0625 0.0625]]\n",
            "[[7.00000e+01 1.52300e+00 1.33100e+01 3.58000e+00 8.20000e-01 7.19900e+01\n",
            "  1.20000e-01 1.01700e+01 0.00000e+00 3.00000e-02]\n",
            " [7.30000e+01 1.51593e+00 1.30900e+01 3.59000e+00 1.52000e+00 7.31000e+01\n",
            "  6.70000e-01 7.83000e+00 0.00000e+00 0.00000e+00]\n",
            " [1.46000e+02 1.51839e+00 1.28500e+01 3.67000e+00 1.24000e+00 7.25700e+01\n",
            "  6.20000e-01 8.68000e+00 0.00000e+00 3.50000e-01]\n",
            " [1.47000e+02 1.51769e+00 1.36500e+01 3.66000e+00 1.11000e+00 7.27700e+01\n",
            "  1.10000e-01 8.60000e+00 0.00000e+00 0.00000e+00]\n",
            " [1.62000e+02 1.51934e+00 1.36400e+01 3.54000e+00 7.50000e-01 7.26500e+01\n",
            "  1.60000e-01 8.89000e+00 1.50000e-01 2.40000e-01]\n",
            " [1.64000e+02 1.51514e+00 1.40100e+01 2.68000e+00 3.50000e+00 6.98900e+01\n",
            "  1.68000e+00 5.87000e+00 2.20000e+00 0.00000e+00]\n",
            " [1.66000e+02 1.52171e+00 1.15600e+01 1.88000e+00 1.56000e+00 7.28600e+01\n",
            "  4.70000e-01 1.14100e+01 0.00000e+00 0.00000e+00]\n",
            " [1.73000e+02 1.51321e+00 1.30000e+01 0.00000e+00 3.02000e+00 7.07000e+01\n",
            "  6.21000e+00 6.93000e+00 0.00000e+00 0.00000e+00]\n",
            " [1.74000e+02 1.52043e+00 1.33800e+01 0.00000e+00 1.40000e+00 7.22500e+01\n",
            "  3.30000e-01 1.25000e+01 0.00000e+00 0.00000e+00]\n",
            " [1.77000e+02 1.51905e+00 1.40000e+01 2.39000e+00 1.56000e+00 7.23700e+01\n",
            "  0.00000e+00 9.57000e+00 0.00000e+00 0.00000e+00]\n",
            " [1.83000e+02 1.51916e+00 1.41500e+01 0.00000e+00 2.09000e+00 7.27400e+01\n",
            "  0.00000e+00 1.08800e+01 0.00000e+00 0.00000e+00]\n",
            " [1.85000e+02 1.51115e+00 1.73800e+01 0.00000e+00 3.40000e-01 7.54100e+01\n",
            "  0.00000e+00 6.65000e+00 0.00000e+00 0.00000e+00]\n",
            " [1.86000e+02 1.51131e+00 1.36900e+01 3.20000e+00 1.81000e+00 7.28100e+01\n",
            "  1.76000e+00 5.43000e+00 1.19000e+00 0.00000e+00]\n",
            " [1.89000e+02 1.52247e+00 1.48600e+01 2.20000e+00 2.06000e+00 7.02600e+01\n",
            "  7.60000e-01 9.76000e+00 0.00000e+00 0.00000e+00]\n",
            " [1.88000e+02 1.52315e+00 1.34400e+01 3.34000e+00 1.23000e+00 7.23800e+01\n",
            "  6.00000e-01 8.83000e+00 0.00000e+00 0.00000e+00]\n",
            " [1.92000e+02 1.51602e+00 1.48500e+01 0.00000e+00 2.38000e+00 7.32800e+01\n",
            "  0.00000e+00 8.76000e+00 6.40000e-01 9.00000e-02]]\n",
            "[1 2 2 4 3 4]\n",
            "0.9846153846153847\n",
            "[[16  0  0  0  0  0]\n",
            " [ 0 27  0  0  0  0]\n",
            " [ 0  0  5  0  0  0]\n",
            " [ 0  0  0  3  1  0]\n",
            " [ 0  0  0  0  2  0]\n",
            " [ 0  0  0  0  0 11]]\n",
            "              precision    recall  f1-score   support\n",
            "\n",
            "           1       1.00      1.00      1.00        16\n",
            "           2       1.00      1.00      1.00        27\n",
            "           3       1.00      1.00      1.00         5\n",
            "           5       1.00      0.75      0.86         4\n",
            "           6       0.67      1.00      0.80         2\n",
            "           7       1.00      1.00      1.00        11\n",
            "\n",
            "    accuracy                           0.98        65\n",
            "   macro avg       0.94      0.96      0.94        65\n",
            "weighted avg       0.99      0.98      0.99        65\n",
            "\n",
            "0.6615384615384615\n",
            "0.9538461538461539\n",
            "0.8153846153846154\n"
          ]
        }
      ]
    },
    {
      "cell_type": "markdown",
      "source": [
        "NAIVE BAYES"
      ],
      "metadata": {
        "id": "7kuilheBPXbw"
      }
    },
    {
      "cell_type": "code",
      "source": [
        "import pandas as pd\n",
        "import numpy as np\n",
        "\n",
        "data = pd.read_csv('covid.csv')\n",
        "\n",
        "data\n",
        "\n",
        "from sklearn import preprocessing\n",
        "le = preprocessing.LabelEncoder()\n",
        "pc_encoded=le.fit_transform(data['pc'].values)\n",
        "wbc_encoded=le.fit_transform(data['wbc'].values)\n",
        "mc_encoded=le.fit_transform(data['mc'].values)\n",
        "ast_encoded=le.fit_transform(data['ast'].values)\n",
        "bc_encoded=le.fit_transform(data['bc'].values)\n",
        "ldh_encoded=le.fit_transform(data['ldh'].values)\n",
        "Y=le.fit_transform(data['diagnosis'].values)\n",
        "\n",
        "X=np.array(list(zip(pc_encoded,wbc_encoded,mc_encoded,ast_encoded,bc_encoded,ldh_encoded)))\n",
        "X\n",
        "Y\n",
        "from sklearn.naive_bayes import MultinomialNB\n",
        "from sklearn.metrics import accuracy_score\n",
        "from sklearn.metrics import classification_report\n",
        "model = MultinomialNB()\n",
        "\n",
        "from sklearn.model_selection import train_test_split\n",
        "X_train,X_test,Y_train,Y_test=train_test_split(X,Y)\n",
        "\n",
        "model.fit(X_train, Y_train)\n",
        "y_pred = model.predict(X_test)\n",
        "\n",
        "print(\"Accuracy:\",accuracy_score(Y_test, y_pred))\n",
        "\n",
        "print(\"\\nReport\")\n",
        "print(classification_report(Y_test,y_pred))\n"
      ],
      "metadata": {
        "colab": {
          "base_uri": "https://localhost:8080/"
        },
        "id": "qZ8nLqvtPYla",
        "outputId": "086b783b-eb2c-4250-f9e5-070e0c6508c3"
      },
      "execution_count": 14,
      "outputs": [
        {
          "output_type": "stream",
          "name": "stdout",
          "text": [
            "Accuracy: 0.5714285714285714\n",
            "\n",
            "Report\n",
            "              precision    recall  f1-score   support\n",
            "\n",
            "           0       0.33      0.50      0.40         2\n",
            "           1       0.75      0.60      0.67         5\n",
            "\n",
            "    accuracy                           0.57         7\n",
            "   macro avg       0.54      0.55      0.53         7\n",
            "weighted avg       0.63      0.57      0.59         7\n",
            "\n"
          ]
        }
      ]
    },
    {
      "cell_type": "markdown",
      "source": [
        "PCA"
      ],
      "metadata": {
        "id": "Ms8vuGUrPdi7"
      }
    },
    {
      "cell_type": "code",
      "source": [
        "import pandas as pd\n",
        "\n",
        "data = pd.read_csv(\"iris.csv\")\n",
        "data.head(5)\n",
        "y = data[\"species\"]\n",
        "\n",
        "# Input data\n",
        "X = data.drop(\"species\", 1)\n",
        "\n",
        "print(X[:5], \"\\n\")\n",
        "print(y[:5])\n",
        "from sklearn.preprocessing import StandardScaler\n",
        "\n",
        "x_scaled = StandardScaler().fit_transform(X)\n",
        "x_scaled[:4]\n",
        "import numpy as np\n",
        "# Covariance Matrix\n",
        "features = x_scaled.T\n",
        "covMatrix = np.cov(features)\n",
        "covMatrix\n",
        "# Eigen values and Eigen vector\n",
        "values, vectors = np.linalg.eig(covMatrix)\n",
        "print(values, \"\\n\")\n",
        "print(vectors)\n",
        "\n",
        "# Variance of each feature w.r.t eigen vlaues\n",
        "explained_variance = []\n",
        "for i in range(len(values)):\n",
        "  res = values[i]/np.sum(values)*100\n",
        "  explained_variance.append(res)\n",
        "\n",
        "print(\"Variance of each feature\", explained_variance)\n",
        "\n",
        "import matplotlib.pyplot as plt\n",
        "import seaborn as sns\n",
        "\n",
        "# Bar graph\n",
        "plt.figure(figsize=(8,4))\n",
        "plt.bar(range(4), explained_variance, alpha=0.8)\n",
        "plt.ylabel(\"Percentage of explained variance\")\n",
        "plt.xlabel(\"Dimensions\")\n",
        "\n",
        "plt.show()\n",
        "\n",
        "pro_1 = x_scaled.dot(vectors.T[0])\n",
        "pro_2 = x_scaled.dot(vectors.T[1])\n",
        "\n",
        "result = pd.DataFrame(pro_1, columns=[\"PC1\"])\n",
        "result[\"PC2\"] = pro_2\n",
        "result[\"Y\"] = y\n",
        "\n",
        "result.head(10)\n",
        "sns.FacetGrid(result, hue=\"Y\", height=6).map(plt.scatter, 'PC1', 'PC2').add_legend()\n",
        "plt.show()\n"
      ],
      "metadata": {
        "colab": {
          "base_uri": "https://localhost:8080/",
          "height": 1000
        },
        "id": "sNhOfHqzPdNU",
        "outputId": "4d392b0a-62e1-4f1e-a56e-30d7ddbfc239"
      },
      "execution_count": 15,
      "outputs": [
        {
          "output_type": "stream",
          "name": "stdout",
          "text": [
            "   sepal length  sepal width  petal length  petal width\n",
            "0           5.1          3.5           1.4          0.2\n",
            "1           4.9          3.0           1.4          0.2\n",
            "2           4.7          3.2           1.3          0.2\n",
            "3           4.6          3.1           1.5          0.2\n",
            "4           5.0          3.6           1.4          0.2 \n",
            "\n",
            "0    1\n",
            "1    1\n",
            "2    1\n",
            "3    1\n",
            "4    1\n",
            "Name: species, dtype: int64\n",
            "[2.93808505 0.9201649  0.14774182 0.02085386] \n",
            "\n",
            "[[ 0.52106591 -0.37741762 -0.71956635  0.26128628]\n",
            " [-0.26934744 -0.92329566  0.24438178 -0.12350962]\n",
            " [ 0.5804131  -0.02449161  0.14212637 -0.80144925]\n",
            " [ 0.56485654 -0.06694199  0.63427274  0.52359713]]\n",
            "Variance of each feature [72.9624454132999, 22.850761786701725, 3.6689218892828612, 0.5178709107154993]\n"
          ]
        },
        {
          "output_type": "display_data",
          "data": {
            "image/png": "[encoded data removed]",
            "text/plain": [
              "<Figure size 576x288 with 1 Axes>"
            ]
          },
          "metadata": {
            "needs_background": "light"
          }
        },
        {
          "output_type": "display_data",
          "data": {
            "image/png": "[encoded data removed]",
            "text/plain": [
              "<Figure size 474.375x432 with 1 Axes>"
            ]
          },
          "metadata": {
            "needs_background": "light"
          }
        }
      ]
    }
  ]
}